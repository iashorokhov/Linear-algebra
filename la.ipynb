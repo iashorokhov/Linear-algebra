{
 "cells": [
  {
   "cell_type": "markdown",
   "metadata": {},
   "source": [
    "# Защита персональных данных клиентов"
   ]
  },
  {
   "cell_type": "markdown",
   "metadata": {},
   "source": [
    "Вам нужно защитить данные клиентов страховой компании «Хоть потоп». Разработайте такой метод преобразования данных, чтобы по ним было сложно восстановить персональную информацию. Обоснуйте корректность его работы.\n",
    "\n",
    "Нужно защитить данные, чтобы при преобразовании качество моделей машинного обучения не ухудшилось. Подбирать наилучшую модель не требуется."
   ]
  },
  {
   "cell_type": "markdown",
   "metadata": {},
   "source": [
    "## Описание признаков\n",
    "\n",
    "Features - Пол, Возраст, Зарплата, Члены семьи.\n",
    "Target - Страховые выплаты"
   ]
  },
  {
   "cell_type": "code",
   "execution_count": 2,
   "metadata": {},
   "outputs": [],
   "source": [
    "import pandas as pd\n",
    "import numpy as np \n",
    "from sklearn.linear_model import LinearRegression\n",
    "from sklearn.metrics import r2_score"
   ]
  },
  {
   "cell_type": "markdown",
   "metadata": {},
   "source": [
    "## Загрузка данных"
   ]
  },
  {
   "cell_type": "code",
   "execution_count": 3,
   "metadata": {},
   "outputs": [
    {
     "data": {
      "text/html": [
       "<div>\n",
       "<style scoped>\n",
       "    .dataframe tbody tr th:only-of-type {\n",
       "        vertical-align: middle;\n",
       "    }\n",
       "\n",
       "    .dataframe tbody tr th {\n",
       "        vertical-align: top;\n",
       "    }\n",
       "\n",
       "    .dataframe thead th {\n",
       "        text-align: right;\n",
       "    }\n",
       "</style>\n",
       "<table border=\"1\" class=\"dataframe\">\n",
       "  <thead>\n",
       "    <tr style=\"text-align: right;\">\n",
       "      <th></th>\n",
       "      <th>Пол</th>\n",
       "      <th>Возраст</th>\n",
       "      <th>Зарплата</th>\n",
       "      <th>Члены семьи</th>\n",
       "      <th>Страховые выплаты</th>\n",
       "    </tr>\n",
       "  </thead>\n",
       "  <tbody>\n",
       "    <tr>\n",
       "      <th>0</th>\n",
       "      <td>1</td>\n",
       "      <td>41.0</td>\n",
       "      <td>49600.0</td>\n",
       "      <td>1</td>\n",
       "      <td>0</td>\n",
       "    </tr>\n",
       "    <tr>\n",
       "      <th>1</th>\n",
       "      <td>0</td>\n",
       "      <td>46.0</td>\n",
       "      <td>38000.0</td>\n",
       "      <td>1</td>\n",
       "      <td>1</td>\n",
       "    </tr>\n",
       "    <tr>\n",
       "      <th>2</th>\n",
       "      <td>0</td>\n",
       "      <td>29.0</td>\n",
       "      <td>21000.0</td>\n",
       "      <td>0</td>\n",
       "      <td>0</td>\n",
       "    </tr>\n",
       "    <tr>\n",
       "      <th>3</th>\n",
       "      <td>0</td>\n",
       "      <td>21.0</td>\n",
       "      <td>41700.0</td>\n",
       "      <td>2</td>\n",
       "      <td>0</td>\n",
       "    </tr>\n",
       "    <tr>\n",
       "      <th>4</th>\n",
       "      <td>1</td>\n",
       "      <td>28.0</td>\n",
       "      <td>26100.0</td>\n",
       "      <td>0</td>\n",
       "      <td>0</td>\n",
       "    </tr>\n",
       "  </tbody>\n",
       "</table>\n",
       "</div>"
      ],
      "text/plain": [
       "   Пол  Возраст  Зарплата  Члены семьи  Страховые выплаты\n",
       "0    1     41.0   49600.0            1                  0\n",
       "1    0     46.0   38000.0            1                  1\n",
       "2    0     29.0   21000.0            0                  0\n",
       "3    0     21.0   41700.0            2                  0\n",
       "4    1     28.0   26100.0            0                  0"
      ]
     },
     "execution_count": 3,
     "metadata": {},
     "output_type": "execute_result"
    }
   ],
   "source": [
    "data = pd.read_csv('/datasets/insurance.csv')\n",
    "data.head()"
   ]
  },
  {
   "cell_type": "markdown",
   "metadata": {},
   "source": [
    "## Умножение матриц"
   ]
  },
  {
   "cell_type": "markdown",
   "metadata": {},
   "source": [
    "В этом задании вы можете записывать формулы в *Jupyter Notebook.*\n",
    "\n",
    "Чтобы записать формулу внутри текста, окружите её символами доллара \\\\$; если снаружи —  двойными символами \\\\$\\\\$. Эти формулы записываются на языке вёрстки *LaTeX.* \n",
    "\n",
    "Для примера мы записали формулы линейной регрессии. Можете их скопировать и отредактировать, чтобы решить задачу.\n",
    "\n",
    "Работать в *LaTeX* необязательно."
   ]
  },
  {
   "cell_type": "markdown",
   "metadata": {},
   "source": [
    "Обозначения:\n",
    "\n",
    "- $X$ — матрица признаков (нулевой столбец состоит из единиц)\n",
    "\n",
    "- $y$ — вектор целевого признака\n",
    "\n",
    "- $P$ — матрица, на которую умножаются признаки\n",
    "\n",
    "- $w$ — вектор весов линейной регрессии (нулевой элемент равен сдвигу)"
   ]
  },
  {
   "cell_type": "markdown",
   "metadata": {},
   "source": [
    "Предсказания:\n",
    "\n",
    "$$\n",
    "a = Xw\n",
    "$$\n",
    "\n",
    "Задача обучения:\n",
    "\n",
    "$$\n",
    "w = \\arg\\min_w MSE(Xw, y)\n",
    "$$\n",
    "\n",
    "Формула обучения:\n",
    "\n",
    "$$\n",
    "w = (X^T X)^{-1} X^T y\n",
    "$$"
   ]
  },
  {
   "cell_type": "markdown",
   "metadata": {},
   "source": [
    "**Ответ:** Если признаки умножают на обратимую матрицу, качество линейной регрессии не изменится. \n",
    "\n",
    "**Обоснование:** \n",
    "У нас есть ряд свойств:\n",
    "    $$\n",
    "(AB)^T=B^T A^T \\tag 1\n",
    "$$\n",
    "$$\n",
    "(AB)^{-1} = B^{-1} A^{-1} \\tag 2\n",
    "$$\n",
    "$$\n",
    "A A^{-1} = A^{-1} A = E \\tag 3\n",
    "$$\n",
    "$$\n",
    "AE = EA = A \\tag 4\n",
    "$$\n",
    "$$\n",
    "A(BC) = (AB)C \\tag 5\n",
    "$$\n",
    "    \n",
    "    \n",
    "$$\n",
    "w' = ((XP)^T XP)^{-1} (XP)^T y\n",
    "$$\n",
    "    \n",
    "Для начала раскроем $(XP)^T$ используя свойство  $(AB)^T = B^T A^T$ \n",
    "    \n",
    "$$\n",
    "w' = (P^T X^T XP)^{-1} P^T X^T y\n",
    "$$    \n",
    "   \n",
    "Далее раскроем   $(P^T(X^TX)P)^{-1}$, пусть тут $A=P^T$, $B=(X^TX)P)^{-1}$, тогда $(P^T(X^TX)P)^{-1} = ((X^TX)P)^{-1} P^{T^{-1}}$\n",
    "    \n",
    "$$\n",
    "w' = (X^T XP)^{-1} P^{T^{-1}} P^T X^T y\n",
    "$$  \n",
    "    \n",
    "$P^{T^{-1}} P^T$ - сократим\n",
    "    \n",
    "$$\n",
    "w' = (X^T XP)^{-1} X^T y\n",
    "$$\n",
    "    \n",
    "Далее раскроем $(X^T XP)^{-1}$, пусть тут $A=(X^TX)$, $B=P$\n",
    "    \n",
    "    \n",
    "$$\n",
    "w' = P^{-1}(X^T X)^{-1} X^T y = P^{-1}w\n",
    "$$    \n",
    "\n",
    "$$\n",
    "a' = XPP^{-1}w = Xw = a\n",
    "$$\n",
    "\n",
    "ч.т.д    "
   ]
  },
  {
   "cell_type": "code",
   "execution_count": 4,
   "metadata": {},
   "outputs": [
    {
     "name": "stdout",
     "output_type": "stream",
     "text": [
      "Исходные признаки:\n",
      " [[1.00e+00 4.10e+01 4.96e+04 1.00e+00]\n",
      " [0.00e+00 4.60e+01 3.80e+04 1.00e+00]\n",
      " [0.00e+00 2.90e+01 2.10e+04 0.00e+00]\n",
      " [0.00e+00 2.10e+01 4.17e+04 2.00e+00]\n",
      " [1.00e+00 2.80e+01 2.61e+04 0.00e+00]]\n",
      "\n",
      "Умноженные признаки:\n",
      " [[2.00e+00 8.20e+01 9.92e+04 2.00e+00]\n",
      " [0.00e+00 9.20e+01 7.60e+04 2.00e+00]\n",
      " [0.00e+00 5.80e+01 4.20e+04 0.00e+00]\n",
      " [0.00e+00 4.20e+01 8.34e+04 4.00e+00]\n",
      " [2.00e+00 5.60e+01 5.22e+04 0.00e+00]]\n"
     ]
    }
   ],
   "source": [
    "# Исходные данные (признаки)\n",
    "features = np.array([\n",
    "    [1, 41.0, 49600.0, 1],\n",
    "    [0, 46.0, 38000.0, 1],\n",
    "    [0, 29.0, 21000.0, 0],\n",
    "    [0, 21.0, 41700.0, 2],\n",
    "    [1, 28.0, 26100.0, 0]\n",
    "])\n",
    "\n",
    "# Обратимая матрица\n",
    "matrix = np.array([\n",
    "    [2, 0, 0, 0],\n",
    "    [0, 2, 0, 0],\n",
    "    [0, 0, 2, 0],\n",
    "    [0, 0, 0, 2]\n",
    "])\n",
    "\n",
    "# Умножение признаков на обратимую матрицу\n",
    "transformed_features = np.dot(features, matrix)\n",
    "\n",
    "print(\"Исходные признаки:\\n\", features)\n",
    "print(\"\\nУмноженные признаки:\\n\", transformed_features)"
   ]
  },
  {
   "cell_type": "code",
   "execution_count": 5,
   "metadata": {},
   "outputs": [
    {
     "name": "stdout",
     "output_type": "stream",
     "text": [
      "R2 модели на исходных признаках: 1.0\n",
      "R2 модели на преобразованных признаках: 1.0\n"
     ]
    }
   ],
   "source": [
    "# Целевой признак\n",
    "target = np.array([0, 1, 0, 0, 0])\n",
    "\n",
    "# Создание и обучение модели на исходных признаках\n",
    "model_original = LinearRegression()\n",
    "model_original.fit(features, target)\n",
    "\n",
    "# Создание и обучение модели на преобразованных признаках\n",
    "model_transformed = LinearRegression()\n",
    "model_transformed.fit(transformed_features, target)\n",
    "\n",
    "# Предсказание на исходных признаках\n",
    "predictions_original = model_original.predict(features)\n",
    "r2_original = r2_score(target, predictions_original)\n",
    "\n",
    "# Предсказание на преобразованных признаках\n",
    "predictions_transformed = model_transformed.predict(transformed_features)\n",
    "r2_transformed = r2_score(target, predictions_transformed)\n",
    "\n",
    "print(\"R2 модели на исходных признаках:\", r2_original)\n",
    "print(\"R2 модели на преобразованных признаках:\", r2_transformed)"
   ]
  },
  {
   "cell_type": "markdown",
   "metadata": {},
   "source": [
    "## Алгоритм преобразования"
   ]
  },
  {
   "cell_type": "markdown",
   "metadata": {},
   "source": [
    "**Алгоритм**\n",
    "\n",
    "Простой вариант для обеспечения защиты данных, одновременно сохраняя качество моделей машинного обучения, может быть умножение признаков на случайную обратимую матрицу.\n",
    "\n",
    "Алгоритм преобразования данных с использованием умножения на обратимую матрицу:\n",
    "1. Генерация случайной обратимой матрицы.\n",
    "2. Умножение исходных признаков на полученную матрицу."
   ]
  },
  {
   "cell_type": "markdown",
   "metadata": {},
   "source": [
    "**Обоснование**\n",
    "\n",
    "Такое преобразование позволит сделать исходные данные неузнаваемыми и сохранит их статистические характеристики. При этом, качество моделей машинного обучения сохранится, поскольку линейные модели, такие как линейная регрессия, инвариантны к линейным преобразованиям и сохранят свои предсказания с теми же ошибками."
   ]
  },
  {
   "cell_type": "markdown",
   "metadata": {},
   "source": [
    "## Проверка алгоритма"
   ]
  },
  {
   "cell_type": "code",
   "execution_count": 7,
   "metadata": {},
   "outputs": [
    {
     "name": "stdout",
     "output_type": "stream",
     "text": [
      "R2 до преобразования признаков: 0.425\n",
      "R2 после преобразования признаков: 0.425\n"
     ]
    }
   ],
   "source": [
    "# Генерация случайной обратимой матрицы\n",
    "matrix = np.random.rand(features.shape[1], features.shape[1])\n",
    "while np.linalg.det(matrix) == 0:\n",
    "    matrix = np.random.rand(features.shape[1], features.shape[1])\n",
    "    \n",
    "# Выделение признаков из представленного датасета\n",
    "features = data.drop('Страховые выплаты', axis=1)\n",
    "target = data['Страховые выплаты']\n",
    "\n",
    "# Обучение модели lR\n",
    "model = LinearRegression()\n",
    "model.fit(features, target)\n",
    "\n",
    "# Получение предсказаний на исходных данных\n",
    "predictions = model.predict(features)\n",
    "r2_original = r2_score(target, predictions)\n",
    "\n",
    "# Умножение признаков на обратимую матрицу\n",
    "transformed_features = np.dot(features, matrix)\n",
    "\n",
    "# Создание и обучение модели после преобразования признаков\n",
    "model_transformed = LinearRegression()\n",
    "model_transformed.fit(transformed_features, target)\n",
    "\n",
    "# Предсказание на преобразованных признаках\n",
    "predictions_transformed = model_transformed.predict(transformed_features)\n",
    "r2_transformed = r2_score(target, predictions_transformed)\n",
    "\n",
    "print(\"R2 до преобразования признаков:\", r2_original.round(3))\n",
    "print(\"R2 после преобразования признаков:\", r2_transformed.round(3))"
   ]
  }
 ],
 "metadata": {
  "ExecuteTimeLog": [
   {
    "duration": 1121,
    "start_time": "2023-12-14T08:26:18.570Z"
   },
   {
    "duration": 93,
    "start_time": "2023-12-14T08:26:48.960Z"
   },
   {
    "duration": 85,
    "start_time": "2023-12-14T08:26:53.520Z"
   },
   {
    "duration": 7,
    "start_time": "2023-12-14T08:36:39.197Z"
   },
   {
    "duration": 7,
    "start_time": "2023-12-14T08:42:17.005Z"
   },
   {
    "duration": 3,
    "start_time": "2023-12-14T08:43:00.331Z"
   },
   {
    "duration": 33,
    "start_time": "2023-12-14T08:43:01.547Z"
   },
   {
    "duration": 6,
    "start_time": "2023-12-14T08:43:07.938Z"
   },
   {
    "duration": 6,
    "start_time": "2023-12-14T08:43:10.146Z"
   },
   {
    "duration": 8,
    "start_time": "2023-12-14T08:51:12.491Z"
   },
   {
    "duration": 3,
    "start_time": "2023-12-14T09:57:22.005Z"
   },
   {
    "duration": 57,
    "start_time": "2023-12-14T09:57:22.011Z"
   },
   {
    "duration": 6,
    "start_time": "2023-12-14T09:57:22.070Z"
   },
   {
    "duration": 10,
    "start_time": "2023-12-14T09:57:22.077Z"
   },
   {
    "duration": 10,
    "start_time": "2023-12-14T09:57:22.089Z"
   },
   {
    "duration": 81,
    "start_time": "2023-12-15T09:44:51.310Z"
   },
   {
    "duration": 1931,
    "start_time": "2023-12-15T09:44:55.324Z"
   },
   {
    "duration": 4,
    "start_time": "2023-12-15T09:44:58.955Z"
   },
   {
    "duration": 10,
    "start_time": "2023-12-15T09:45:18.073Z"
   },
   {
    "duration": 42,
    "start_time": "2023-12-16T15:42:05.920Z"
   },
   {
    "duration": 996,
    "start_time": "2023-12-16T15:42:10.933Z"
   },
   {
    "duration": 83,
    "start_time": "2023-12-16T15:42:13.007Z"
   },
   {
    "duration": 6,
    "start_time": "2023-12-16T15:42:21.492Z"
   },
   {
    "duration": 6,
    "start_time": "2023-12-16T15:42:25.023Z"
   },
   {
    "duration": 13,
    "start_time": "2023-12-16T15:50:44.509Z"
   },
   {
    "duration": 13,
    "start_time": "2023-12-16T15:51:19.542Z"
   }
  ],
  "kernelspec": {
   "display_name": "Python 3 (ipykernel)",
   "language": "python",
   "name": "python3"
  },
  "language_info": {
   "codemirror_mode": {
    "name": "ipython",
    "version": 3
   },
   "file_extension": ".py",
   "mimetype": "text/x-python",
   "name": "python",
   "nbconvert_exporter": "python",
   "pygments_lexer": "ipython3",
   "version": "3.9.5"
  },
  "toc": {
   "base_numbering": 1,
   "nav_menu": {},
   "number_sections": true,
   "sideBar": true,
   "skip_h1_title": true,
   "title_cell": "Содержание",
   "title_sidebar": "Contents",
   "toc_cell": true,
   "toc_position": {},
   "toc_section_display": true,
   "toc_window_display": true
  }
 },
 "nbformat": 4,
 "nbformat_minor": 2
}
